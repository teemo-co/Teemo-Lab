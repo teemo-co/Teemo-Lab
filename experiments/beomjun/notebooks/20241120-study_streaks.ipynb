{
 "cells": [
  {
   "cell_type": "code",
   "execution_count": 1,
   "id": "68ec8afe-817e-4bd1-b11d-554dcafa37d6",
   "metadata": {},
   "outputs": [],
   "source": [
    "from tqdm import tqdm\n",
    "from json import loads"
   ]
  },
  {
   "cell_type": "code",
   "execution_count": 18,
   "id": "2d066789-5202-4af3-a5db-298608e6da97",
   "metadata": {},
   "outputs": [],
   "source": [
    "minimum_matches = 50\n",
    "n_worsts = 50\n",
    "raw_data = \"./raw_matches_2024_0710.csv\"\n",
    "output_dir = \"./study\"\n",
    "date = \"20241120\"\n",
    "chunk_size = 10000"
   ]
  },
  {
   "cell_type": "code",
   "execution_count": 19,
   "id": "dbb3bb1f-09fd-4388-b88d-c88ac7700410",
   "metadata": {},
   "outputs": [],
   "source": [
    "dfs = pd.read_csv(raw_data, chunksize=chunk_size)"
   ]
  },
  {
   "cell_type": "code",
   "execution_count": 20,
   "id": "12affb92-d79e-40a8-bb82-dc2bef26984e",
   "metadata": {
    "scrolled": true
   },
   "outputs": [
    {
     "name": "stderr",
     "output_type": "stream",
     "text": [
      "100%|██████████| 10000/10000 [00:12<00:00, 797.36it/s]\n",
      "100%|██████████| 10000/10000 [00:13<00:00, 769.02it/s]\n",
      "100%|██████████| 10000/10000 [00:13<00:00, 765.72it/s]\n",
      "100%|██████████| 10000/10000 [00:13<00:00, 743.47it/s]\n",
      "100%|██████████| 10000/10000 [00:13<00:00, 749.45it/s]\n",
      "100%|██████████| 10000/10000 [00:14<00:00, 713.28it/s]\n",
      "100%|██████████| 10000/10000 [00:15<00:00, 655.83it/s]\n",
      "100%|██████████| 10000/10000 [00:13<00:00, 721.37it/s]\n",
      "100%|██████████| 10000/10000 [00:14<00:00, 671.58it/s]\n",
      "100%|██████████| 10000/10000 [00:13<00:00, 723.78it/s]\n",
      "100%|██████████| 10000/10000 [00:14<00:00, 677.39it/s]\n",
      "100%|██████████| 10000/10000 [00:14<00:00, 705.48it/s]\n",
      "100%|██████████| 10000/10000 [00:14<00:00, 709.39it/s]\n",
      "100%|██████████| 10000/10000 [00:15<00:00, 657.17it/s]\n",
      "100%|██████████| 10000/10000 [00:13<00:00, 732.95it/s]\n",
      "100%|██████████| 1996/1996 [00:02<00:00, 718.75it/s]\n"
     ]
    }
   ],
   "source": [
    "data = []\n",
    "for df in dfs:\n",
    "    for match in tqdm(df.match_data):\n",
    "        info = loads(match)[\"info\"]\n",
    "        for part in info[\"participants\"]:\n",
    "            data.append(\n",
    "                [\n",
    "                    info[\"gameCreation\"],\n",
    "                    info[\"gameDuration\"],\n",
    "                    part[\"deaths\"],\n",
    "                    part[\"summonerName\"],\n",
    "                    part[\"summonerId\"],\n",
    "                    part[\"win\"],\n",
    "                ]\n",
    "            )\n",
    "user_df = pd.DataFrame(data, columns=[\"gameCreation\",\"duration\", \"death\", \"name\", \"id\", \"win\"])\n",
    "user_df.to_csv(f\"{output_dir}/{date}-user.csv\", index=False)"
   ]
  },
  {
   "cell_type": "code",
   "execution_count": 22,
   "id": "6c00012c-d8f2-42ba-821b-384402aae30b",
   "metadata": {},
   "outputs": [],
   "source": [
    "name_df = (\n",
    "    user_df[[\"name\", \"id\"]]\n",
    "    .drop_duplicates(\n",
    "        subset=\"id\",\n",
    "        keep=\"last\",\n",
    "    )\n",
    "    .reset_index(drop=True)\n",
    ")\n",
    "name_map = name_df.set_index(\"id\").to_dict(orient=\"dict\")[\"name\"]"
   ]
  },
  {
   "cell_type": "code",
   "execution_count": 46,
   "id": "886ffb5c-cb0c-48e8-abef-88f341085845",
   "metadata": {},
   "outputs": [
    {
     "name": "stdout",
     "output_type": "stream",
     "text": [
      "CPU times: user 191 µs, sys: 6 µs, total: 197 µs\n",
      "Wall time: 185 µs\n"
     ]
    }
   ],
   "source": [
    "%%time\n",
    "user_head = user_df.head(10000)"
   ]
  },
  {
   "cell_type": "code",
   "execution_count": 50,
   "id": "560834b6-6650-49b0-b42d-905b6c9603ec",
   "metadata": {},
   "outputs": [],
   "source": [
    "user_df = user_df.sort_values(['id', 'gameCreation'])\n"
   ]
  },
  {
   "cell_type": "code",
   "execution_count": null,
   "id": "b6776f56-0521-4239-a5dd-0468a96403e4",
   "metadata": {},
   "outputs": [],
   "source": [
    "%%time\n",
    "def calculate_streaks(group):\n",
    "    group['streak'] = (group['win'] != group['win'].shift()).cumsum()  # 구간 나누기\n",
    "    streaks = group.groupby('streak')['win'].agg(['count', 'first']).reset_index()\n",
    "    streaks = streaks.rename(columns={'count': 'length', 'first': 'win_status'})\n",
    "    streaks['type'] = streaks['win_status'].apply(lambda x: 'win' if x else 'lose')\n",
    "    streaks['id'] = group['id'].iloc[0]\n",
    "    return streaks[['id', 'type', 'length']]\n",
    "\n",
    "streaks_df = user_df.groupby('id', group_keys=False).apply(calculate_streaks).reset_index(drop=True)\n"
   ]
  },
  {
   "cell_type": "code",
   "execution_count": null,
   "id": "66f0f74a-5eda-44af-830d-2cad86ef03dc",
   "metadata": {},
   "outputs": [],
   "source": [
    "1"
   ]
  },
  {
   "cell_type": "code",
   "execution_count": null,
   "id": "dda23723-094c-4f83-8fb8-d4669a1c1814",
   "metadata": {},
   "outputs": [],
   "source": [
    ")"
   ]
  },
  {
   "cell_type": "code",
   "execution_count": null,
   "id": "8b3526ce-afb3-4325-b06b-66f9c215a343",
   "metadata": {},
   "outputs": [],
   "source": []
  }
 ],
 "metadata": {
  "kernelspec": {
   "display_name": "Python 3 (ipykernel)",
   "language": "python",
   "name": "python3"
  },
  "language_info": {
   "codemirror_mode": {
    "name": "ipython",
    "version": 3
   },
   "file_extension": ".py",
   "mimetype": "text/x-python",
   "name": "python",
   "nbconvert_exporter": "python",
   "pygments_lexer": "ipython3",
   "version": "3.9.19"
  }
 },
 "nbformat": 4,
 "nbformat_minor": 5
}
